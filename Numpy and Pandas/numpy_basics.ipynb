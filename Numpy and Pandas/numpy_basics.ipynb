{
 "cells": [
  {
   "cell_type": "markdown",
   "id": "13f8d8b8",
   "metadata": {},
   "source": [
    "# Numpy"
   ]
  },
  {
   "cell_type": "markdown",
   "id": "98562837",
   "metadata": {},
   "source": [
    "numpy is a library which provides support for large, homogeneous, multi-dimensional arrays and matrices"
   ]
  },
  {
   "cell_type": "code",
   "execution_count": 2,
   "id": "8969ff66",
   "metadata": {},
   "outputs": [],
   "source": [
    "#import numpy\n",
    "import numpy as np\n"
   ]
  },
  {
   "cell_type": "markdown",
   "id": "8b5d87c4",
   "metadata": {},
   "source": [
    "# Creating an Arra in Numpy"
   ]
  },
  {
   "cell_type": "markdown",
   "id": "11796879",
   "metadata": {},
   "source": [
    "## creating an array from a list"
   ]
  },
  {
   "cell_type": "code",
   "execution_count": 3,
   "id": "ed88ef8d",
   "metadata": {},
   "outputs": [
    {
     "data": {
      "text/plain": [
       "[10, 20, 30]"
      ]
     },
     "execution_count": 3,
     "metadata": {},
     "output_type": "execute_result"
    }
   ],
   "source": [
    "list1 = [10, 20, 30]\n",
    "list1"
   ]
  },
  {
   "cell_type": "code",
   "execution_count": 4,
   "id": "daf5d696",
   "metadata": {},
   "outputs": [
    {
     "data": {
      "text/plain": [
       "array([10, 20, 30])"
      ]
     },
     "execution_count": 4,
     "metadata": {},
     "output_type": "execute_result"
    }
   ],
   "source": [
    "arr1 = np.array(list1)\n",
    "arr1"
   ]
  },
  {
   "cell_type": "code",
   "execution_count": 5,
   "id": "45cef529",
   "metadata": {},
   "outputs": [
    {
     "data": {
      "text/plain": [
       "numpy.ndarray"
      ]
     },
     "execution_count": 5,
     "metadata": {},
     "output_type": "execute_result"
    }
   ],
   "source": [
    "type(arr1)"
   ]
  },
  {
   "cell_type": "markdown",
   "id": "ebb496fc",
   "metadata": {},
   "source": [
    "### Using arange to create an array\n",
    "\n",
    "The difference between array and arange is that array takes in a list and turns it into an array, whereas arange creates an array from a range of numbers"
   ]
  },
  {
   "cell_type": "code",
   "execution_count": 6,
   "id": "ecec185e",
   "metadata": {},
   "outputs": [
    {
     "data": {
      "text/plain": [
       "array([10, 11, 12, 13, 14, 15, 16, 17, 18, 19])"
      ]
     },
     "execution_count": 6,
     "metadata": {},
     "output_type": "execute_result"
    }
   ],
   "source": [
    "arr2 = np.arange(10, 20, 1) #(start,stop,stepsize)\n",
    "arr2"
   ]
  },
  {
   "cell_type": "markdown",
   "id": "4340d4b1",
   "metadata": {},
   "source": [
    "## Multidimesnional arrays\n",
    "\n",
    "### combining two list - two dimesnional arrays\n",
    "\n",
    "when we combine arrays togetherm we can ad dimensions. Combining two arrays gives us a 2d array!\n",
    "\n",
    "This creates a matrix fro us on which we can perform matrix operations"
   ]
  },
  {
   "cell_type": "code",
   "execution_count": 7,
   "id": "be42dd7d",
   "metadata": {},
   "outputs": [
    {
     "data": {
      "text/plain": [
       "array([[10, 20, 30],\n",
       "       [40, 50, 60]])"
      ]
     },
     "execution_count": 7,
     "metadata": {},
     "output_type": "execute_result"
    }
   ],
   "source": [
    "#let's create a new list to join onto the first list\n",
    "list2 = [40,50,60]\n",
    "\n",
    "#join the lists\n",
    "list3 = [list1, list2]\n",
    "\n",
    "#create an array out of the joined lists\n",
    "arr3 = np.array(list3)\n",
    "arr3"
   ]
  },
  {
   "cell_type": "code",
   "execution_count": 8,
   "id": "37a6516f",
   "metadata": {},
   "outputs": [
    {
     "data": {
      "text/plain": [
       "(2, 3)"
      ]
     },
     "execution_count": 8,
     "metadata": {},
     "output_type": "execute_result"
    }
   ],
   "source": [
    "#let's find the shape of that array\n",
    "# we have a 2 array with 2 elements in the first instance and 3 in the second\n",
    "arr3.shape"
   ]
  },
  {
   "cell_type": "markdown",
   "id": "c8101b5b",
   "metadata": {},
   "source": [
    "### Three-dimesnional arrays"
   ]
  },
  {
   "cell_type": "code",
   "execution_count": 9,
   "id": "308699f5",
   "metadata": {},
   "outputs": [
    {
     "data": {
      "text/plain": [
       "(2, 2, 3)"
      ]
     },
     "execution_count": 9,
     "metadata": {},
     "output_type": "execute_result"
    }
   ],
   "source": [
    "arr3dim = np.array([[[1,2,3], \n",
    "                     [3,4,5]], \n",
    "                     [[5,6,7], [7,8,9]]])\n",
    "arr3dim.shape                    "
   ]
  },
  {
   "cell_type": "markdown",
   "id": "724bf305",
   "metadata": {},
   "source": [
    "## Using Arrays and Scalars\n",
    "numpy arrays (or ndarray) allow us to perform matrix operations."
   ]
  },
  {
   "cell_type": "code",
   "execution_count": 10,
   "id": "e59af9bf",
   "metadata": {},
   "outputs": [
    {
     "data": {
      "text/plain": [
       "array([[[ 3,  6,  9],\n",
       "        [ 9, 12, 15]],\n",
       "\n",
       "       [[15, 18, 21],\n",
       "        [21, 24, 27]]])"
      ]
     },
     "execution_count": 10,
     "metadata": {},
     "output_type": "execute_result"
    }
   ],
   "source": [
    "# For example, we can use simple multiplication\n",
    "arr3dim*3"
   ]
  },
  {
   "cell_type": "code",
   "execution_count": 11,
   "id": "14f2656a",
   "metadata": {},
   "outputs": [
    {
     "data": {
      "text/plain": [
       "[10, 20, 30, 10, 20, 30, 10, 20, 30]"
      ]
     },
     "execution_count": 11,
     "metadata": {},
     "output_type": "execute_result"
    }
   ],
   "source": [
    "# How is this different than trying to do:\n",
    "list1 * 3\n",
    "# Lists and arrays are treatedd differently, see below:"
   ]
  },
  {
   "cell_type": "code",
   "execution_count": 12,
   "id": "c3777fe7",
   "metadata": {},
   "outputs": [
    {
     "data": {
      "text/plain": [
       "array([ 400, 1000, 1800])"
      ]
     },
     "execution_count": 12,
     "metadata": {},
     "output_type": "execute_result"
    }
   ],
   "source": [
    "# We can actually multiply an array wih another array\n",
    "\n",
    "# Create a new array with the same size as arr1\n",
    "\n",
    "arr11 = np.array(list2)\n",
    "\n",
    "#multiply the arrays, what will happen?\n",
    "\n",
    "arr1 * arr11"
   ]
  },
  {
   "cell_type": "markdown",
   "id": "2068839c",
   "metadata": {},
   "source": [
    "### Can we multiply arrays of differen shapes?"
   ]
  },
  {
   "cell_type": "code",
   "execution_count": 13,
   "id": "02a2c377",
   "metadata": {},
   "outputs": [
    {
     "ename": "ValueError",
     "evalue": "operands could not be broadcast together with shapes (3,) (10,) ",
     "output_type": "error",
     "traceback": [
      "\u001b[1;31m---------------------------------------------------------------------------\u001b[0m",
      "\u001b[1;31mValueError\u001b[0m                                Traceback (most recent call last)",
      "Cell \u001b[1;32mIn[13], line 1\u001b[0m\n\u001b[1;32m----> 1\u001b[0m arr1 \u001b[38;5;241m*\u001b[39m arr2\n",
      "\u001b[1;31mValueError\u001b[0m: operands could not be broadcast together with shapes (3,) (10,) "
     ]
    }
   ],
   "source": [
    "arr1 * arr2"
   ]
  },
  {
   "cell_type": "markdown",
   "id": "0529afbb",
   "metadata": {},
   "source": [
    "The answer is NO!"
   ]
  },
  {
   "cell_type": "markdown",
   "id": "50be80b6",
   "metadata": {},
   "source": [
    "### It is possible to multiply arrays of different dimension, but they need the same element size!"
   ]
  },
  {
   "cell_type": "code",
   "execution_count": 14,
   "id": "0c973af4",
   "metadata": {},
   "outputs": [
    {
     "data": {
      "text/plain": [
       "array([[[ 10,  40,  90],\n",
       "        [ 30,  80, 150]],\n",
       "\n",
       "       [[ 50, 120, 210],\n",
       "        [ 70, 160, 270]]])"
      ]
     },
     "execution_count": 14,
     "metadata": {},
     "output_type": "execute_result"
    }
   ],
   "source": [
    "arr1 * arr3dim"
   ]
  },
  {
   "cell_type": "markdown",
   "id": "fe9f5b0f",
   "metadata": {},
   "source": [
    "## Arrays practice"
   ]
  },
  {
   "cell_type": "code",
   "execution_count": 15,
   "id": "2839dd0b",
   "metadata": {},
   "outputs": [
    {
     "data": {
      "text/plain": [
       "array([ 0,  1,  2,  3,  4,  5,  6,  7,  8,  9, 10, 11])"
      ]
     },
     "execution_count": 15,
     "metadata": {},
     "output_type": "execute_result"
    }
   ],
   "source": [
    "# one dimensional array with 12 elements\n",
    "onedarray = np.arange(12)\n",
    "onedarray"
   ]
  },
  {
   "cell_type": "code",
   "execution_count": 16,
   "id": "0e88bf97",
   "metadata": {},
   "outputs": [
    {
     "data": {
      "text/plain": [
       "[[10, 11, 12, 13, 14, 15, 16, 17, 18, 19, 20],\n",
       " [5, 10, 15, 20, 25, 30, 35, 40, 45, 50]]"
      ]
     },
     "execution_count": 16,
     "metadata": {},
     "output_type": "execute_result"
    }
   ],
   "source": [
    "#two dimensional array size (3,4)\n",
    "twodarray = [[10,11,12,13,14,15,16,17,18,19,20], [5,10,15,20,25,30,35,40,45,50]]\n",
    "twodarray"
   ]
  },
  {
   "cell_type": "code",
   "execution_count": 17,
   "id": "1b654751",
   "metadata": {},
   "outputs": [
    {
     "data": {
      "text/plain": [
       "[[[1, 2, 3, 4],\n",
       "  [5, 6, 7, 8],\n",
       "  [9, 10, 11, 12],\n",
       "  [13, 14, 15, 16],\n",
       "  [17, 18, 19, 20]],\n",
       " [[21, 22, 23, 24],\n",
       "  [25, 26, 27, 28],\n",
       "  [29, 30, 31, 32],\n",
       "  [33, 34, 35, 36],\n",
       "  [37, 38, 39, 40]]]"
      ]
     },
     "execution_count": 17,
     "metadata": {},
     "output_type": "execute_result"
    }
   ],
   "source": [
    "#three ddimensional array size (2,5,4)\n",
    "threedarray = threedarray = [\n",
    "    [\n",
    "        [1, 2, 3, 4],\n",
    "        [5, 6, 7, 8],\n",
    "        [9, 10, 11, 12],\n",
    "        [13, 14, 15, 16],\n",
    "        [17, 18, 19, 20]\n",
    "    ],\n",
    "    [\n",
    "        [21, 22, 23, 24],\n",
    "        [25, 26, 27, 28],\n",
    "        [29, 30, 31, 32],\n",
    "        [33, 34, 35, 36],\n",
    "        [37, 38, 39, 40]\n",
    "    ]\n",
    "]\n",
    "\n",
    "threedarray"
   ]
  },
  {
   "cell_type": "markdown",
   "id": "c751b056",
   "metadata": {},
   "source": [
    "### Accessing the values inside ndarrays\n",
    "let's take arr3 as our example, this was a 2d array"
   ]
  },
  {
   "cell_type": "code",
   "execution_count": 18,
   "id": "24630539",
   "metadata": {},
   "outputs": [
    {
     "data": {
      "text/plain": [
       "array([[10, 20, 30],\n",
       "       [40, 50, 60]])"
      ]
     },
     "execution_count": 18,
     "metadata": {},
     "output_type": "execute_result"
    }
   ],
   "source": [
    "arr3"
   ]
  },
  {
   "cell_type": "code",
   "execution_count": 19,
   "id": "30a3f991",
   "metadata": {},
   "outputs": [
    {
     "data": {
      "text/plain": [
       "60"
      ]
     },
     "execution_count": 19,
     "metadata": {},
     "output_type": "execute_result"
    }
   ],
   "source": [
    "#we can use indexing\n",
    "arr3[1][2]\n",
    "\n",
    "#We can just use a comma!\n",
    "arr3[1,2]"
   ]
  },
  {
   "cell_type": "code",
   "execution_count": 20,
   "id": "ddad9eb0",
   "metadata": {},
   "outputs": [
    {
     "data": {
      "text/plain": [
       "array([40, 50, 60])"
      ]
     },
     "execution_count": 20,
     "metadata": {},
     "output_type": "execute_result"
    }
   ],
   "source": [
    "# how can I get the bottom \"row\" of this ndarray?\n",
    "arr3[1]"
   ]
  },
  {
   "cell_type": "code",
   "execution_count": 21,
   "id": "1fb618e0",
   "metadata": {},
   "outputs": [
    {
     "data": {
      "text/plain": [
       "array([30, 60])"
      ]
     },
     "execution_count": 21,
     "metadata": {},
     "output_type": "execute_result"
    }
   ],
   "source": [
    "#How about if we just want the last COLUMN?\n",
    "# : Means everything, so see below:\n",
    "arr3[:, 2]"
   ]
  },
  {
   "cell_type": "markdown",
   "id": "e3edac15",
   "metadata": {},
   "source": [
    "## Statistical functions and arrays\n",
    "\n",
    "There are a number of builtin statistical functions we can use with numpy"
   ]
  },
  {
   "cell_type": "code",
   "execution_count": 22,
   "id": "fde22bef",
   "metadata": {},
   "outputs": [
    {
     "data": {
      "text/plain": [
       "210"
      ]
     },
     "execution_count": 22,
     "metadata": {},
     "output_type": "execute_result"
    }
   ],
   "source": [
    "# Finding the sum of all values\n",
    "arr3.sum()"
   ]
  },
  {
   "cell_type": "code",
   "execution_count": 23,
   "id": "a0043d45",
   "metadata": {},
   "outputs": [
    {
     "data": {
      "text/plain": [
       "array([50, 70, 90])"
      ]
     },
     "execution_count": 23,
     "metadata": {},
     "output_type": "execute_result"
    }
   ],
   "source": [
    "# Findding the sum of all columns\n",
    "arr3.sum(0)"
   ]
  },
  {
   "cell_type": "code",
   "execution_count": 24,
   "id": "6a87e108",
   "metadata": {},
   "outputs": [
    {
     "data": {
      "text/plain": [
       "array([ 60, 150])"
      ]
     },
     "execution_count": 24,
     "metadata": {},
     "output_type": "execute_result"
    }
   ],
   "source": [
    "# Findimg the sum of all rows\n",
    "arr3.sum(1)"
   ]
  },
  {
   "cell_type": "code",
   "execution_count": 25,
   "id": "a97fdad1",
   "metadata": {},
   "outputs": [
    {
     "data": {
      "text/plain": [
       "35.0"
      ]
     },
     "execution_count": 25,
     "metadata": {},
     "output_type": "execute_result"
    }
   ],
   "source": [
    "# Finding the mean\n",
    "arr3.mean()"
   ]
  },
  {
   "cell_type": "code",
   "execution_count": 26,
   "id": "32b62e4f",
   "metadata": {},
   "outputs": [
    {
     "data": {
      "text/plain": [
       "array([25., 35., 45.])"
      ]
     },
     "execution_count": 26,
     "metadata": {},
     "output_type": "execute_result"
    }
   ],
   "source": [
    "# Finding the mean of all colums\n",
    "arr3.mean(0)"
   ]
  },
  {
   "cell_type": "code",
   "execution_count": 27,
   "id": "45a3e7b1",
   "metadata": {},
   "outputs": [
    {
     "data": {
      "text/plain": [
       "17.07825127659933"
      ]
     },
     "execution_count": 27,
     "metadata": {},
     "output_type": "execute_result"
    }
   ],
   "source": [
    "#Finding Standard Deviation\n",
    "arr3.std()"
   ]
  },
  {
   "cell_type": "code",
   "execution_count": 28,
   "id": "dc988695",
   "metadata": {},
   "outputs": [
    {
     "data": {
      "text/plain": [
       "291.6666666666667"
      ]
     },
     "execution_count": 28,
     "metadata": {},
     "output_type": "execute_result"
    }
   ],
   "source": [
    "# Finding variance\n",
    "arr3.var()"
   ]
  },
  {
   "cell_type": "code",
   "execution_count": 29,
   "id": "664a0449",
   "metadata": {},
   "outputs": [],
   "source": [
    "# Finding min value"
   ]
  },
  {
   "cell_type": "code",
   "execution_count": 30,
   "id": "df00fd0b",
   "metadata": {},
   "outputs": [
    {
     "data": {
      "text/plain": [
       "10"
      ]
     },
     "execution_count": 30,
     "metadata": {},
     "output_type": "execute_result"
    }
   ],
   "source": [
    "arr3.min()"
   ]
  },
  {
   "cell_type": "code",
   "execution_count": 31,
   "id": "cf4d0e9d",
   "metadata": {},
   "outputs": [
    {
     "data": {
      "text/plain": [
       "60"
      ]
     },
     "execution_count": 31,
     "metadata": {},
     "output_type": "execute_result"
    }
   ],
   "source": [
    "#Findding max value\n",
    "arr3.max()"
   ]
  },
  {
   "cell_type": "markdown",
   "id": "6775ff39",
   "metadata": {},
   "source": [
    "## Iterating through ndarrays\n",
    "\n",
    "Simplest way is to use a simple loop"
   ]
  },
  {
   "cell_type": "code",
   "execution_count": 32,
   "id": "18805cc9",
   "metadata": {},
   "outputs": [
    {
     "name": "stdout",
     "output_type": "stream",
     "text": [
      "10\n",
      "20\n",
      "30\n"
     ]
    }
   ],
   "source": [
    "# For a 1d array\n",
    "for x in arr1:\n",
    "    print(x)"
   ]
  },
  {
   "cell_type": "code",
   "execution_count": 33,
   "id": "1a6b8d4c",
   "metadata": {},
   "outputs": [
    {
     "name": "stdout",
     "output_type": "stream",
     "text": [
      "10\n",
      "20\n",
      "30\n",
      "40\n",
      "50\n",
      "60\n"
     ]
    }
   ],
   "source": [
    "# How about an n-dimensional array? Use nested loops\n",
    "for dim in arr3:\n",
    "    for num in dim:\n",
    "        print(num)"
   ]
  },
  {
   "cell_type": "code",
   "execution_count": 34,
   "id": "7ad23824",
   "metadata": {},
   "outputs": [
    {
     "name": "stdout",
     "output_type": "stream",
     "text": [
      "10\n",
      "20\n",
      "30\n",
      "40\n",
      "50\n",
      "60\n"
     ]
    }
   ],
   "source": [
    "# There is another way! we can use nditter\n",
    "#This can be used in sumple scenarios, but also very complex ones\n",
    "#It tends to be much cleaner for nested loops\n",
    "for x in np.nditer(arr3):\n",
    "    print(x)"
   ]
  },
  {
   "cell_type": "markdown",
   "id": "e6c2cefa",
   "metadata": {},
   "source": [
    "## Saving and loading in numpy"
   ]
  },
  {
   "cell_type": "code",
   "execution_count": 35,
   "id": "deb79650",
   "metadata": {},
   "outputs": [],
   "source": [
    "#To save an array as a file\n",
    "np.save(\"new\", arr3)"
   ]
  },
  {
   "cell_type": "code",
   "execution_count": 36,
   "id": "be068042",
   "metadata": {},
   "outputs": [
    {
     "data": {
      "text/plain": [
       "array([[10, 20, 30],\n",
       "       [40, 50, 60]])"
      ]
     },
     "execution_count": 36,
     "metadata": {},
     "output_type": "execute_result"
    }
   ],
   "source": [
    "# Load the file\n",
    "np.load(\"new.npy\")"
   ]
  },
  {
   "cell_type": "code",
   "execution_count": 38,
   "id": "787e1609",
   "metadata": {},
   "outputs": [],
   "source": [
    "# Saving as a txt\n",
    "np.savetxt(\"new.txt\", arr3, delimiter=\",\")"
   ]
  },
  {
   "cell_type": "code",
   "execution_count": 39,
   "id": "6da7c06b",
   "metadata": {},
   "outputs": [
    {
     "ename": "TypeError",
     "evalue": "Cannot construct a dtype from an array",
     "output_type": "error",
     "traceback": [
      "\u001b[1;31m---------------------------------------------------------------------------\u001b[0m",
      "\u001b[1;31mTypeError\u001b[0m                                 Traceback (most recent call last)",
      "Cell \u001b[1;32mIn[39], line 2\u001b[0m\n\u001b[0;32m      1\u001b[0m \u001b[38;5;66;03m# Loading a txt\u001b[39;00m\n\u001b[1;32m----> 2\u001b[0m np\u001b[38;5;241m.\u001b[39mloadtxt(\u001b[38;5;124m\"\u001b[39m\u001b[38;5;124mnew.txt\u001b[39m\u001b[38;5;124m\"\u001b[39m,arr3,  delimiter \u001b[38;5;241m=\u001b[39m \u001b[38;5;124m\"\u001b[39m\u001b[38;5;124m,\u001b[39m\u001b[38;5;124m\"\u001b[39m)\n",
      "File \u001b[1;32mD:\\Anaconda\\Lib\\site-packages\\numpy\\lib\\npyio.py:1356\u001b[0m, in \u001b[0;36mloadtxt\u001b[1;34m(fname, dtype, comments, delimiter, converters, skiprows, usecols, unpack, ndmin, encoding, max_rows, quotechar, like)\u001b[0m\n\u001b[0;32m   1353\u001b[0m \u001b[38;5;28;01mif\u001b[39;00m \u001b[38;5;28misinstance\u001b[39m(delimiter, \u001b[38;5;28mbytes\u001b[39m):\n\u001b[0;32m   1354\u001b[0m     delimiter \u001b[38;5;241m=\u001b[39m delimiter\u001b[38;5;241m.\u001b[39mdecode(\u001b[38;5;124m'\u001b[39m\u001b[38;5;124mlatin1\u001b[39m\u001b[38;5;124m'\u001b[39m)\n\u001b[1;32m-> 1356\u001b[0m arr \u001b[38;5;241m=\u001b[39m _read(fname, dtype\u001b[38;5;241m=\u001b[39mdtype, comment\u001b[38;5;241m=\u001b[39mcomment, delimiter\u001b[38;5;241m=\u001b[39mdelimiter,\n\u001b[0;32m   1357\u001b[0m             converters\u001b[38;5;241m=\u001b[39mconverters, skiplines\u001b[38;5;241m=\u001b[39mskiprows, usecols\u001b[38;5;241m=\u001b[39musecols,\n\u001b[0;32m   1358\u001b[0m             unpack\u001b[38;5;241m=\u001b[39munpack, ndmin\u001b[38;5;241m=\u001b[39mndmin, encoding\u001b[38;5;241m=\u001b[39mencoding,\n\u001b[0;32m   1359\u001b[0m             max_rows\u001b[38;5;241m=\u001b[39mmax_rows, quote\u001b[38;5;241m=\u001b[39mquotechar)\n\u001b[0;32m   1361\u001b[0m \u001b[38;5;28;01mreturn\u001b[39;00m arr\n",
      "File \u001b[1;32mD:\\Anaconda\\Lib\\site-packages\\numpy\\lib\\npyio.py:900\u001b[0m, in \u001b[0;36m_read\u001b[1;34m(fname, delimiter, comment, quote, imaginary_unit, usecols, skiplines, max_rows, converters, ndmin, unpack, dtype, encoding)\u001b[0m\n\u001b[0;32m    898\u001b[0m \u001b[38;5;28;01mif\u001b[39;00m dtype \u001b[38;5;129;01mis\u001b[39;00m \u001b[38;5;28;01mNone\u001b[39;00m:\n\u001b[0;32m    899\u001b[0m     \u001b[38;5;28;01mraise\u001b[39;00m \u001b[38;5;167;01mTypeError\u001b[39;00m(\u001b[38;5;124m\"\u001b[39m\u001b[38;5;124ma dtype must be provided.\u001b[39m\u001b[38;5;124m\"\u001b[39m)\n\u001b[1;32m--> 900\u001b[0m dtype \u001b[38;5;241m=\u001b[39m np\u001b[38;5;241m.\u001b[39mdtype(dtype)\n\u001b[0;32m    902\u001b[0m read_dtype_via_object_chunks \u001b[38;5;241m=\u001b[39m \u001b[38;5;28;01mNone\u001b[39;00m\n\u001b[0;32m    903\u001b[0m \u001b[38;5;28;01mif\u001b[39;00m dtype\u001b[38;5;241m.\u001b[39mkind \u001b[38;5;129;01min\u001b[39;00m \u001b[38;5;124m'\u001b[39m\u001b[38;5;124mSUM\u001b[39m\u001b[38;5;124m'\u001b[39m \u001b[38;5;129;01mand\u001b[39;00m (\n\u001b[0;32m    904\u001b[0m         dtype \u001b[38;5;241m==\u001b[39m \u001b[38;5;124m\"\u001b[39m\u001b[38;5;124mS0\u001b[39m\u001b[38;5;124m\"\u001b[39m \u001b[38;5;129;01mor\u001b[39;00m dtype \u001b[38;5;241m==\u001b[39m \u001b[38;5;124m\"\u001b[39m\u001b[38;5;124mU0\u001b[39m\u001b[38;5;124m\"\u001b[39m \u001b[38;5;129;01mor\u001b[39;00m dtype \u001b[38;5;241m==\u001b[39m \u001b[38;5;124m\"\u001b[39m\u001b[38;5;124mM8\u001b[39m\u001b[38;5;124m\"\u001b[39m \u001b[38;5;129;01mor\u001b[39;00m dtype \u001b[38;5;241m==\u001b[39m \u001b[38;5;124m'\u001b[39m\u001b[38;5;124mm8\u001b[39m\u001b[38;5;124m'\u001b[39m):\n\u001b[0;32m    905\u001b[0m     \u001b[38;5;66;03m# This is a legacy \"flexible\" dtype.  We do not truly support\u001b[39;00m\n\u001b[0;32m    906\u001b[0m     \u001b[38;5;66;03m# parametric dtypes currently (no dtype discovery step in the core),\u001b[39;00m\n\u001b[0;32m    907\u001b[0m     \u001b[38;5;66;03m# but have to support these for backward compatibility.\u001b[39;00m\n",
      "\u001b[1;31mTypeError\u001b[0m: Cannot construct a dtype from an array"
     ]
    }
   ],
   "source": [
    "# Loading a txt\n",
    "np.loadtxt(\"new.txt\",arr3,  delimiter = \",\")"
   ]
  },
  {
   "cell_type": "code",
   "execution_count": null,
   "id": "24d2d1b5",
   "metadata": {},
   "outputs": [],
   "source": []
  }
 ],
 "metadata": {
  "kernelspec": {
   "display_name": "Python 3 (ipykernel)",
   "language": "python",
   "name": "python3"
  },
  "language_info": {
   "codemirror_mode": {
    "name": "ipython",
    "version": 3
   },
   "file_extension": ".py",
   "mimetype": "text/x-python",
   "name": "python",
   "nbconvert_exporter": "python",
   "pygments_lexer": "ipython3",
   "version": "3.11.5"
  }
 },
 "nbformat": 4,
 "nbformat_minor": 5
}
